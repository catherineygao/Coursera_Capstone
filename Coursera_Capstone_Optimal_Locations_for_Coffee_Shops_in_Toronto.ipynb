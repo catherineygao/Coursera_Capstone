{
  "nbformat": 4,
  "nbformat_minor": 0,
  "metadata": {
    "colab": {
      "name": "Coursera Capstone - Optimal Locations for Coffee Shops in Toronto.ipynb",
      "provenance": [],
      "collapsed_sections": []
    },
    "kernelspec": {
      "name": "python3",
      "display_name": "Python 3"
    }
  },
  "cells": [
    {
      "cell_type": "markdown",
      "metadata": {
        "id": "9yK0cXNvqF_Q"
      },
      "source": [
        "# **Coursera Capstone Project - Optimal Locations for Coffee Shops in Toronto**\n",
        "*A Python workbook created by Catherine Gao*\n",
        "\n",
        "In this capstone project, I will leverage the Foursquare location data to solve the business problems stated in Section 1. "
      ]
    },
    {
      "cell_type": "markdown",
      "metadata": {
        "id": "wKkN9FdGqaNu"
      },
      "source": [
        "## **1. Introduction/Business Problem**\n",
        "In this capstone project, I will help my client to identify the optimal locations to open a coffee shop in the city of Toronto, Ontario. Toronto is one of the major cities in Canada as well as the most populous metropolitan area. Opening a coffee shop in this city represents business opportunity but also strong competition at the same time. This project will explore clusters of neighborhoods in Toronto to recommend locations for a good coffee shop business.  \n",
        "\n"
      ]
    },
    {
      "cell_type": "markdown",
      "metadata": {
        "id": "ivbG1Qi8rCm2"
      },
      "source": [
        "## **2. Data**\n",
        "Describe the data that you will be using to solve the problem or execute your idea.\n",
        "\n",
        "This project will leverage the following two data sets:\n",
        "1. Toronto Postall Codes Wikipedia Page - I will scrape the following Wikipedia page, https://en.wikipedia.org/wiki/List_of_postal_codes_of_Canada:_M, in order to obtain the data of postal codes and boroughs in Canada. \n",
        "\n",
        "2. Foursquare location data - an API that provides multi-dimensional data on geolocations, venues, and attributes. This data will help to identify types of business in a specific area and their associated ranks.\n",
        "\n",
        "3. Geolocation csv file - a csv file that has the geographical coordinates of each postal code: http://cocl.us/Geospatial_data . This data will be used to visualize the clusters of neighborhoods on a folium map. \n",
        "\n",
        "\n"
      ]
    },
    {
      "cell_type": "code",
      "metadata": {
        "id": "a5WRjJ4_v_DC"
      },
      "source": [
        ""
      ],
      "execution_count": null,
      "outputs": []
    }
  ]
}